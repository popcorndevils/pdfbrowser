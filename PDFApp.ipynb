{
 "cells": [
  {
   "cell_type": "code",
   "execution_count": 1,
   "id": "65d3d9c6-2ab9-4189-9d47-9583a9a07fd7",
   "metadata": {},
   "outputs": [],
   "source": [
    "from pdfbrowser import PDFBrowser"
   ]
  },
  {
   "cell_type": "code",
   "execution_count": 2,
   "id": "d8041e4b-2a78-4e9d-ae07-18688a06deb7",
   "metadata": {},
   "outputs": [],
   "source": [
    "app = PDFBrowser()"
   ]
  },
  {
   "cell_type": "code",
   "execution_count": 3,
   "id": "410b8561-520c-4ad7-8c02-58317e1192b9",
   "metadata": {},
   "outputs": [
    {
     "data": {
      "application/vnd.jupyter.widget-view+json": {
       "model_id": "40e2a615a2124cc98edc6ac4e0d477e5",
       "version_major": 2,
       "version_minor": 0
      },
      "text/plain": [
       "PDFBrowser(children=(PDFImager(children=(FileInput(events=['upload']), Button(button_style='success', descript…"
      ]
     },
     "metadata": {},
     "output_type": "display_data"
    }
   ],
   "source": [
    "app"
   ]
  }
 ],
 "metadata": {
  "kernelspec": {
   "display_name": "Python 3 (ipykernel)",
   "language": "python",
   "name": "python3"
  },
  "language_info": {
   "codemirror_mode": {
    "name": "ipython",
    "version": 3
   },
   "file_extension": ".py",
   "mimetype": "text/x-python",
   "name": "python",
   "nbconvert_exporter": "python",
   "pygments_lexer": "ipython3",
   "version": "3.9.7"
  },
  "vscode": {
   "interpreter": {
    "hash": "d59d6fb2ce1bcb5ba59c2a98cb65b20653c9ffe35cb27ebdbf468b6647604707"
   }
  }
 },
 "nbformat": 4,
 "nbformat_minor": 5
}
